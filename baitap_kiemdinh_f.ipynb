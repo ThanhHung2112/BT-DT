{
 "cells": [
  {
   "cell_type": "markdown",
   "metadata": {
    "id": "WBSWkUgOLu37"
   },
   "source": [
    "KIỂM ĐỊNH F\n",
    "\n",
    "Thay vì xây dựng giả thuyết với giá trị trung bình, người ta có thể xây dựng giả thuyết với phương sai (variance $\\sigma^{2}$). Trong trường hợp này, chúng ta sử dụng kiểm định F. Tóm tắt về kiểm định F như sau:\n",
    "\n",
    "Kiểm định một đuôi:\n",
    "\n",
    "$$H_{0}: \\sigma^{2} = \\sigma_{0}^{2} $$\n",
    "\n",
    "$$H_{a}: \\sigma^{2} < \\sigma_{0}^{2} (H_{a}: \\sigma^{2} > \\sigma_{0}^{2})$$ \n",
    "\n",
    "Giá trị thống kê kiểm định:\n",
    "\n",
    "$$ \\chi^{2} = \\frac{(n-1)s^{2}}{\\sigma_{0}^{2}}$$\n",
    "\n",
    "Vùng bác bỏ: $\\chi^{2} < \\chi_{(1 - \\alpha)}^{2}$  hoặc $\\chi^{2} > \\chi_{(1 - \\alpha)}^{2}$  khi $H_{a}: \\sigma^{2} > \\sigma_{0}^{2}$\n",
    "\n",
    "Ghi chú: \n",
    "\n",
    "- $\\chi^{2}$ - chi-square\n",
    "- (n - 1) mức tự do\n",
    "\n"
   ]
  },
  {
   "cell_type": "markdown",
   "metadata": {
    "id": "91mHIGKgLu4A"
   },
   "source": [
    "Kiểm định 2 đuôi:\n",
    "\n",
    "$$H_{0}: \\sigma^{2} = \\sigma_{0}^{2}$$\n",
    "$$H_{a}:\\sigma^{2} \\neq \\sigma_{0}^{2} $$\n",
    "\n",
    "Giá trị thống kê kiểm định:\n",
    "\n",
    "$$ \\chi^{2} = \\frac{(n-1)s^{2}}{\\sigma_{0}^{2}}$$\n",
    "\n",
    "Vùng bác bỏ: $\\chi^{2} < \\chi_{(1 - \\alpha/2)}^{2}$  hoặc $\\chi^{2} > \\chi_{(\\alpha/2)}^{2}$  \n",
    "Ghi chú: \n",
    "\n",
    "- $\\chi^{2}$ - chi-square\n",
    "- (n - 1) mức tự do"
   ]
  },
  {
   "cell_type": "markdown",
   "metadata": {
    "id": "x1gxMSU7Lu4A"
   },
   "source": [
    "THỰC HÀNH KIỂM ĐỊNH F\n",
    "\n",
    "Bước 1: Sinh ngẫu nhiên số liệu\n",
    "\n",
    "Bước 2: Xây dựng giả thuyết \n",
    "\n",
    "Bước 3: Kiểm định Bartlett "
   ]
  },
  {
   "cell_type": "code",
   "execution_count": null,
   "metadata": {
    "id": "85-B0RzcLu4B"
   },
   "outputs": [],
   "source": [
    "import numpy as np\n",
    "import pandas as pd\n",
    "import random\n",
    "from scipy import stats\n",
    "from statsmodels.stats.weightstats import ztest\n",
    "import warnings\n",
    "import matplotlib.pyplot as plt\n",
    "import seaborn as sns\n",
    "%matplotlib inline"
   ]
  },
  {
   "cell_type": "code",
   "execution_count": null,
   "metadata": {
    "id": "_tsLQf-4Lu4B"
   },
   "outputs": [],
   "source": [
    "#Sinh ngẫu nhiên 1000 mẫu tuân theo phân phối chuẩn có trung bình mẫu là 7.5 và độ lệch chuẩn là 0.25\n",
    "mean_1 = 7.5\n",
    "std_1 = 0.25\n",
    "N_1 = 1000\n",
    "samples_1 = np.random.normal(mean_1, std_1, N_1)"
   ]
  },
  {
   "cell_type": "code",
   "execution_count": null,
   "metadata": {
    "id": "gix1dyr9Lu4C",
    "outputId": "94d6411a-df28-4ad4-ddaf-ceae804137cd"
   },
   "outputs": [
    {
     "name": "stdout",
     "output_type": "stream",
     "text": [
      "[7.80435077 7.39173474 7.88538046 7.36791265 7.47550623 7.47039075\n",
      " 7.42038182 7.785741   8.17327938 7.32138352]\n"
     ]
    }
   ],
   "source": [
    "#In ra 10 phần tử đầu tiên\n",
    "print(samples_1[:10])"
   ]
  },
  {
   "cell_type": "code",
   "execution_count": null,
   "metadata": {
    "id": "RLupgc33Lu4C"
   },
   "outputs": [],
   "source": [
    "#Sinh ngẫu nhiên 900 mẫu tuân theo phân phối chuẩn có trung bình mẫu là 7 và độ lệch chuẩn là 0.2\n",
    "mean_2= 7\n",
    "std_2 = 0.2\n",
    "N_2 = 900\n",
    "samples_2 = np.random.normal(mean_2, std_2, N_2)"
   ]
  },
  {
   "cell_type": "code",
   "execution_count": null,
   "metadata": {
    "id": "dn5kHf5ILu4D",
    "outputId": "7d14659a-ebb2-44af-f3eb-7416ca78a4a4"
   },
   "outputs": [
    {
     "name": "stdout",
     "output_type": "stream",
     "text": [
      "[6.97392727 6.7680331  6.9765569  7.20116716 6.70116584 7.11348431\n",
      " 7.13056472 7.28356771 7.13143519 7.12268851]\n"
     ]
    }
   ],
   "source": [
    "#In ra 10 phần tử đầu tiên\n",
    "print(samples_2[:10])"
   ]
  },
  {
   "cell_type": "markdown",
   "metadata": {
    "id": "qY_8Lc1cLu4D"
   },
   "source": [
    "Xây dựng giả thuyết:\n",
    "$$H_{0}: \\sigma_{1}^{2} = \\sigma_{2}^{2}$$\n",
    "$$H_{a}: \\sigma_{1}^{2} \\neq \\sigma_{2}^{2}$$"
   ]
  },
  {
   "cell_type": "code",
   "execution_count": null,
   "metadata": {
    "id": "Eych3BL1Lu4D",
    "outputId": "11ccdabf-b1a4-4c80-c51e-6f2f61038a21"
   },
   "outputs": [
    {
     "name": "stdout",
     "output_type": "stream",
     "text": [
      "Stat value:  50.71159890972865 ; p-value:  1.0698543599175272e-12\n"
     ]
    }
   ],
   "source": [
    "#Kiểm định Bartlett\n",
    "stat_value, p_value = stats.bartlett(samples_1, samples_2)\n",
    "print(\"Stat value: \", stat_value, \"; p-value: \", p_value)"
   ]
  },
  {
   "cell_type": "code",
   "execution_count": null,
   "metadata": {
    "id": "ojhDVcGMLu4E",
    "outputId": "f30cd0e7-d72b-4891-c9de-9df9ccf0602c"
   },
   "outputs": [
    {
     "name": "stdout",
     "output_type": "stream",
     "text": [
      "Có bằng chứng để bác bỏ giả thuyết H0\n"
     ]
    }
   ],
   "source": [
    "alpha = 0.05\n",
    "if(p_value <  alpha):\n",
    "  print(\"Có bằng chứng để bác bỏ giả thuyết H0\")\n",
    "else:\n",
    "  print(\"Chưa có bằng chứng để bác bỏ giả thuyết H0\")"
   ]
  },
  {
   "cell_type": "markdown",
   "metadata": {
    "id": "Ovz4ng9RLu4E"
   },
   "source": [
    "BÀI TẬP\n",
    "\n",
    "Bạn hãy thử viết code tiến hành kiểm định F 1 đuôi?\n",
    "\n",
    "Gợi ý: Thử tìm kiếm ví dụ về kiểm dịnh F 1 đuôi trong ngôn ngữ lập trình Python & R để nhận thấy sự khác biệt."
   ]
  },
  {
   "cell_type": "raw",
   "metadata": {
    "id": "sxluMAKFLu4E"
   },
   "source": [
    "Điểm trung bình của điểm trung bình (GPA) của các khóa học đại học trong một chuyên ngành cụ thể là thước đo độ khó của chuyên ngành đó. Một nhà giáo dục muốn thực hiện một nghiên cứu để tìm hiểu xem liệu mức độ khó khăn của các chuyên ngành khác nhau có giống nhau hay không. Đối với một nghiên cứu như vậy, một mẫu ngẫu nhiên về điểm trung bình (GPA) chính của 11 học sinh lớp 12 tốt nghiệp tại một trường đại học lớn được chọn cho từng chuyên ngành toán, tiếng Anh, giáo dục và sinh học. Dữ liệu được đưa ra trong Bảng 11.17 \"Mức độ khó khăn của các chuyên ngành đại học\" . Kiểm tra, ở mức ý nghĩa 5%, liệu dữ liệu có đủ bằng chứng để kết luận rằng có sự khác biệt giữa các điểm trung bình chung trung bình của bốn chuyên ngành này hay không.\n",
    "\n",
    "math\tenglish\tpython\tphysict\n",
    "2,59\t3,64\t4,00\t2,78\n",
    "3,13\t3,19\t3,59\t3.51\n",
    "2,97\t3,15\t2,80\t2,65\n",
    "2,50\t3,78\t2,39\t3,16\n",
    "2,53\t3.03\t3,47\t2,94\n",
    "3,29\t2,61\t3,59\t2,32\n",
    "2,53\t3,20\t3,74\t2,58\n",
    "3,17\t3,30\t3,77\t3,21\n",
    "2,70\t3.54\t3,13\t3,23\n",
    "3,88\t3,25\t3,00\t3.57\n",
    "2,64\t4,00\t3,47\t3,22"
   ]
  },
  {
   "cell_type": "code",
   "execution_count": 59,
   "metadata": {},
   "outputs": [
    {
     "name": "stdout",
     "output_type": "stream",
     "text": [
      "statistic=  3.199184552890619\n",
      "pvalue =  0.03345139477165951\n",
      "Có bằng chứng để bác bỏ giả thuyết H0\n"
     ]
    }
   ],
   "source": [
    "from scipy.stats import f_oneway\n",
    "\n",
    "alpha = 0.05\n",
    "math = [2.59,3.13,2.97,2.5,2.53,3.29,2.53,3.17,2.7,3.88,2.64]\n",
    "englisgh = [3.64,3.19,3.15,3.78,3.03,2.61,3.2,3.3,3.54,3.25,4]\n",
    "#petersburg = [0.0974, 0.1352, 0.0817, 0.1016, 0.0968, 0.1064, 0.105]\n",
    "python = [4,3.59,2.8,2.39,3.47,3.59,3.74,3.77,3.13,3,3.47]\n",
    "physict = [2.78,3.51,2.65,3.16,2.94,2.32,2.58,3.21,3.23,3.57,3.22]\n",
    "\n",
    "F,p = f_oneway(english,python, physict,math)\n",
    "print(\"statistic= \",F)\n",
    "print(\"pvalue = \",p)\n",
    "if(p <  alpha):\n",
    "  print(\"Có bằng chứng để bác bỏ giả thuyết H0\")\n",
    "else:\n",
    "  print(\"Chưa có bằng chứng để bác bỏ giả thuyết H0\")"
   ]
  }
 ],
 "metadata": {
  "colab": {
   "name": "kiem-dinh-f.ipynb",
   "provenance": []
  },
  "kernelspec": {
   "display_name": "Python 3",
   "language": "python",
   "name": "python3"
  },
  "language_info": {
   "codemirror_mode": {
    "name": "ipython",
    "version": 3
   },
   "file_extension": ".py",
   "mimetype": "text/x-python",
   "name": "python",
   "nbconvert_exporter": "python",
   "pygments_lexer": "ipython3",
   "version": "3.8.5"
  }
 },
 "nbformat": 4,
 "nbformat_minor": 1
}
