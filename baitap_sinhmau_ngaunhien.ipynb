{
 "cells": [
  {
   "cell_type": "code",
   "execution_count": 1,
   "metadata": {},
   "outputs": [],
   "source": [
    "import numpy as np"
   ]
  },
  {
   "cell_type": "markdown",
   "metadata": {
    "id": "UI6ooBps0m5d"
   },
   "source": [
    "Sử dụng thư viện Numpy\n",
    "\n",
    "1. Sinh mẫu ngẫu nhiên bằng hàm arange trong khoảng [-15, 27] với khoảng cách là 0.7 và in kết quả ra màn hình"
   ]
  },
  {
   "cell_type": "code",
   "execution_count": 2,
   "metadata": {
    "id": "dPWyQclW0m5m"
   },
   "outputs": [
    {
     "data": {
      "text/plain": [
       "array([-15. , -14.3, -13.6, -12.9, -12.2, -11.5, -10.8, -10.1,  -9.4,\n",
       "        -8.7,  -8. ,  -7.3,  -6.6,  -5.9,  -5.2,  -4.5,  -3.8,  -3.1,\n",
       "        -2.4,  -1.7,  -1. ,  -0.3,   0.4,   1.1,   1.8,   2.5,   3.2,\n",
       "         3.9,   4.6,   5.3,   6. ,   6.7,   7.4,   8.1,   8.8,   9.5,\n",
       "        10.2,  10.9,  11.6,  12.3,  13. ,  13.7,  14.4,  15.1,  15.8,\n",
       "        16.5,  17.2,  17.9,  18.6,  19.3,  20. ,  20.7,  21.4,  22.1,\n",
       "        22.8,  23.5,  24.2,  24.9,  25.6,  26.3,  27. ])"
      ]
     },
     "execution_count": 2,
     "metadata": {},
     "output_type": "execute_result"
    }
   ],
   "source": [
    "np.arange(-15, 27, 0.7)"
   ]
  },
  {
   "cell_type": "markdown",
   "metadata": {
    "id": "V5zMnMpN0m5n"
   },
   "source": [
    "2. Sinh mẫu ngẫu nhiên theo phân phối chuẩn với mean = 2.7 std = 1.2 và size = 40\n",
    "In kết quả ra màn hình"
   ]
  },
  {
   "cell_type": "code",
   "execution_count": 3,
   "metadata": {
    "id": "uZLydxVb0m5o"
   },
   "outputs": [
    {
     "data": {
      "text/plain": [
       "array([ 4.26603325,  4.23839799,  1.64895243, -0.49884137,  3.98533572,\n",
       "        4.09225911,  2.21883904,  3.01801674,  1.51707873,  1.76487068,\n",
       "        2.00981095,  2.34524748,  2.18221241,  3.15574071,  3.60404536,\n",
       "        1.81384905,  4.69603154,  2.37398308,  2.30731661,  2.90754313,\n",
       "        1.96289987,  3.27392669,  0.469133  ,  2.7108274 ,  2.98807825,\n",
       "        3.22120637,  0.6973962 ,  1.59803779,  3.72187884,  1.60491537,\n",
       "        1.1151354 ,  2.00833722,  3.70970696,  1.85178559,  3.05490445,\n",
       "        0.81284458,  2.53998347,  1.20336871,  2.76956854,  2.37960536])"
      ]
     },
     "execution_count": 3,
     "metadata": {},
     "output_type": "execute_result"
    }
   ],
   "source": [
    "np.random.normal(loc = 2.7, scale = 1.2, size = 40)"
   ]
  },
  {
   "cell_type": "markdown",
   "metadata": {
    "id": "cstj_7HI0m5o"
   },
   "source": [
    "3. Sinh mẫu ngẫu nhiên từ vector ['Viet Nam', 'Britain', 'France', 'Russia', 'Singapore'] \n",
    "\n",
    "với kích thước là 17 theo phân phối chuẩn"
   ]
  },
  {
   "cell_type": "code",
   "execution_count": 4,
   "metadata": {
    "id": "Uy9CRbZX0m5p"
   },
   "outputs": [
    {
     "data": {
      "text/plain": [
       "array(['Britain', 'Britain', 'Britain', 'France', 'Russia', 'Britain',\n",
       "       'Viet Nam', 'Singapore', 'Russia', 'Britain', 'Russia', 'France',\n",
       "       'France', 'Russia', 'Britain', 'France', 'Britain'], dtype='<U9')"
      ]
     },
     "execution_count": 4,
     "metadata": {},
     "output_type": "execute_result"
    }
   ],
   "source": [
    "np.random.choice(['Viet Nam', 'Britain', 'France', 'Russia', 'Singapore'],17)"
   ]
  },
  {
   "cell_type": "markdown",
   "metadata": {
    "id": "_bNOo7Sb0m5p"
   },
   "source": [
    "4. Sinh mẫu ngẫu nhiên ở câu 3 nhưng không theo phân phối chuẩn mà theo 1 vector đặc tả giá trị xác suất do bạn chọn"
   ]
  },
  {
   "cell_type": "code",
   "execution_count": 6,
   "metadata": {
    "id": "arYqNu070m5p"
   },
   "outputs": [
    {
     "data": {
      "text/plain": [
       "array(['Britain', 'Viet Nam', 'Viet Nam', 'Britain', 'Britain',\n",
       "       'Viet Nam', 'Singapore', 'France', 'Viet Nam', 'Singapore',\n",
       "       'Britain', 'Viet Nam', 'France', 'France', 'Britain', 'Viet Nam',\n",
       "       'Britain'], dtype='<U9')"
      ]
     },
     "execution_count": 6,
     "metadata": {},
     "output_type": "execute_result"
    }
   ],
   "source": [
    "np.random.choice(['Viet Nam', 'Britain', 'France', 'Russia', 'Singapore'], 17, p = [0.4, 0.15, 0.25, 0.1, 0.1])"
   ]
  },
  {
   "cell_type": "markdown",
   "metadata": {
    "id": "lXEongCO0m5q"
   },
   "source": [
    "Sử dụng thư việc scipy.stats để sinh mẫu ngẫu nhiên\n",
    "\n",
    "1. Sinh mẫu ngẫu nhiên theo phân phối chuẩn với mean = 12.7, std = 2.6 và size = 30. In kết quả ra màn hình"
   ]
  },
  {
   "cell_type": "code",
   "execution_count": 7,
   "metadata": {
    "id": "g2sp6hGa0m5q"
   },
   "outputs": [
    {
     "data": {
      "text/plain": [
       "array([13.09553311, 11.13016323, 13.26521605, 13.50638776, 13.44844222,\n",
       "       15.33252609, 13.62160309, 13.61723562, 12.07457305,  9.90152759,\n",
       "       17.92901512, 14.88838981, 11.71093062, 14.51516432, 14.04143726,\n",
       "        9.4363779 , 11.8236789 , 11.95572182,  9.24204787,  9.37783321,\n",
       "        9.95349601, 11.76808979, 11.36598084, 14.32266277, 15.12000877,\n",
       "       13.88109097, 15.36209315, 13.63031982, 12.62955861, 12.9501514 ])"
      ]
     },
     "execution_count": 7,
     "metadata": {},
     "output_type": "execute_result"
    }
   ],
   "source": [
    "np.random.normal(loc = 12.7, scale = 2.6, size = 30)"
   ]
  },
  {
   "cell_type": "markdown",
   "metadata": {
    "id": "-1QvexOL0m5r"
   },
   "source": [
    "2. Hãy sinh một mẫu ngẫu nhiên theo phân phối Poisson"
   ]
  },
  {
   "cell_type": "code",
   "execution_count": 14,
   "metadata": {
    "id": "j55o_gKP0m5r"
   },
   "outputs": [
    {
     "data": {
      "text/plain": [
       "array([49, 49, 55, 43, 49, 56, 52, 60, 59, 41, 50, 55, 47, 43, 49, 55, 66,\n",
       "       53, 48, 41, 54, 47, 53, 48, 57, 48, 43, 54, 53, 50, 47, 47, 41, 44,\n",
       "       44, 46, 59, 45, 47, 50, 51, 42, 44, 47, 44, 51, 56, 46, 51, 65, 53,\n",
       "       37, 51, 53, 51, 54, 45, 38, 38, 49, 47, 56, 49, 55, 43, 56, 52, 49,\n",
       "       43, 49, 52, 47, 59, 63, 56, 50, 46, 47, 49, 40, 47, 60, 51, 40, 54,\n",
       "       54, 52, 47, 43, 63, 53, 46, 46, 47, 44, 48, 46, 63, 50, 55])"
      ]
     },
     "execution_count": 14,
     "metadata": {},
     "output_type": "execute_result"
    }
   ],
   "source": [
    "from scipy import stats\n",
    "\n",
    "stats.poisson.rvs(loc=12,mu=38,size=100)\n"
   ]
  },
  {
   "cell_type": "code",
   "execution_count": null,
   "metadata": {
    "id": "itj4nmYw0m5r"
   },
   "outputs": [],
   "source": []
  }
 ],
 "metadata": {
  "colab": {
   "name": "bai-tap-sinh-mau-ngau-nhien.ipynb",
   "provenance": []
  },
  "kernelspec": {
   "display_name": "Python 3",
   "language": "python",
   "name": "python3"
  },
  "language_info": {
   "codemirror_mode": {
    "name": "ipython",
    "version": 3
   },
   "file_extension": ".py",
   "mimetype": "text/x-python",
   "name": "python",
   "nbconvert_exporter": "python",
   "pygments_lexer": "ipython3",
   "version": "3.8.3"
  }
 },
 "nbformat": 4,
 "nbformat_minor": 1
}
