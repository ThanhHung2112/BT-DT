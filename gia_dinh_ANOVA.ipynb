{
 "cells": [
  {
   "cell_type": "markdown",
   "metadata": {
    "id": "zJxb85tLcyXz"
   },
   "source": [
    "PHÂN TÍCH ANOVA MỘT CHIỀU\n",
    "\n",
    "Phân tích ANOVA chấp nhận các giả định sau:\n",
    "\n",
    "(1) Tất cả các nhóm đều độc lập với nhau\n",
    "\n",
    "(2) Dữ liệu của mỗi nhóm đều tuân theo phân phối chuẩn. Tính chất này có thể được kiểm định bằng phương pháp Shapiro-Wilks.\n",
    "\n",
    "(3) Phương sai (variance) của các nhóm bằng nhau. Tính chất này có thể được kiểm định bằng phương pháp kiểm định Bartlett hay Levene.\n",
    "\n",
    "Nếu dữ liệu hiện có thỏa mãn các tính chất trên thì chúng ta mới tiến hành kiểm định ANOVA. Do vậy trước khi tiến hành kiểm định ANOVA, chúng ta cần thực hiện kiểm tra tập dữ liệu cần thỏa mãn 3 tính chất trên.\n",
    "    "
   ]
  },
  {
   "cell_type": "code",
   "execution_count": 11,
   "metadata": {
    "id": "1z-VAHbHcyX8"
   },
   "outputs": [
    {
     "data": {
      "text/plain": [
       "array([ 6.80609228, 13.39617567, 11.28185398,  9.81169906,  6.7633208 ,\n",
       "        6.49077865, 10.66853309, 11.54354951,  9.3435875 , 10.87309461,\n",
       "       14.1768527 ,  7.69940293,  9.93911487,  9.59578167, 11.61598372,\n",
       "        7.31346277, 10.80846852, 10.44115458,  9.34751291,  8.59596353,\n",
       "       15.29743128,  9.94367486, 11.69462612,  9.02729   , 12.15728062,\n",
       "        7.24960259, 11.95323874, 10.65956523,  8.55653732,  9.14806608,\n",
       "       11.52100517,  9.68147703, 10.35343119,  6.92054064, 10.19290866,\n",
       "       10.13880829,  8.86173037,  9.81206065, 13.31054198, 10.15255667,\n",
       "        5.70323602, 11.18952636,  7.90367209,  9.26722563, 10.39214814,\n",
       "        9.54216772, 10.36707369,  9.85680497, 13.48400859, 10.72547713,\n",
       "        8.63117887,  9.06269539, 12.36710539, 10.66799531, 10.94056217,\n",
       "        7.29363556,  8.10087706, 11.647482  , 10.65289373,  7.15146413,\n",
       "       11.27062085, 10.87818965,  8.30888602, 11.78906084, 11.45423975,\n",
       "        8.56059372, 11.70893876, 10.88880041, 10.21749222,  9.46679517,\n",
       "        6.35812851, 11.06728708, 11.82358017,  8.72481207,  9.38781363,\n",
       "       12.13914146, 12.90873984, 14.38289905,  8.51444504,  5.84570493,\n",
       "        6.98045574, 12.90733608, 13.9776228 ,  3.340684  , 10.57043254,\n",
       "        9.29081464, 10.38302911, 13.34817539, 11.6338068 ,  9.00025675,\n",
       "       12.18495735, 10.16585079, 12.464076  , 11.1110283 ,  8.48573311,\n",
       "        9.25325261, 11.0792057 , 10.20866125, 10.26738057, 12.93632389])"
      ]
     },
     "execution_count": 11,
     "metadata": {},
     "output_type": "execute_result"
    }
   ],
   "source": [
    "#Bước 1: Hãy tạo một tập dữ liệu mẫu sample_1 với kích thước 100 tuân theo phân phối chuẩn\n",
    "import numpy as np\n",
    "from scipy import stats\n",
    "\n",
    "sample1 = np.random.normal(10,2,100)\n",
    "sample1"
   ]
  },
  {
   "cell_type": "code",
   "execution_count": 20,
   "metadata": {
    "id": "461_11SNcyX9"
   },
   "outputs": [
    {
     "data": {
      "text/plain": [
       "array([12,  9, 10,  9, 15, 14,  9, 14, 10, 16,  9, 17, 10,  9, 14, 10, 13,\n",
       "       10, 14,  8, 12, 10, 11, 15, 12,  9,  9, 13, 12,  9,  7,  8, 12,  9,\n",
       "        8,  8, 15,  9,  7, 11,  8, 12, 12, 14,  7, 10, 10, 11,  9, 12,  9,\n",
       "       10, 15, 19, 16,  8, 10, 11,  6, 13, 11,  9,  8, 15, 11,  7, 13,  9,\n",
       "       18, 15, 12,  9, 14, 11, 14,  7,  7, 10,  6,  7, 13, 12,  7, 16,  3,\n",
       "        8,  7, 10,  8, 11, 11, 10,  7,  5,  9, 13,  8, 11,  6, 18])"
      ]
     },
     "execution_count": 20,
     "metadata": {},
     "output_type": "execute_result"
    }
   ],
   "source": [
    "# Bước 2: hãy tạo tập dữ liệu mẫu sample_2 với kích thước 100 tuân theo phân phối Poisson\n",
    "sample2 = np.random.poisson( lam = 11 , size = 100 )\n",
    "sample2"
   ]
  },
  {
   "cell_type": "markdown",
   "metadata": {
    "id": "wzkbhF8mcyX-"
   },
   "source": [
    "Hãy tham khảo các hướng dẫn sau để kiểm định tính chất thứ 2 bằng phương pháp Shapiro-Wilks đối với sample_1 và sample_2\n",
    "\n",
    "(1) [Tài liệu tham khảo scipy](https://docs.scipy.org/doc/scipy/reference/generated/scipy.stats.shapiro.html)\n",
    "\n",
    "(2) [Hướng dẫn cụ thể của statology](https://www.statology.org/shapiro-wilk-test-python/)"
   ]
  },
  {
   "cell_type": "code",
   "execution_count": 22,
   "metadata": {
    "id": "Ie9jx23DcyX-"
   },
   "outputs": [
    {
     "name": "stdout",
     "output_type": "stream",
     "text": [
      "sample1 tuân theo phân phối chuẩn\n",
      "sample2 không tuân theo phân phối chuẩn\n"
     ]
    }
   ],
   "source": [
    "#Code kiểm định tính chất thứ 2 của sample_1 và sample_2\n",
    "def check(sample1,sample2):\n",
    "    test1 = stats.shapiro(sample1)[1]\n",
    "    test2 = stats.shapiro(sample2)[1]\n",
    "    if test1 > 0.05:\n",
    "        print(f'sample1 tuân theo phân phối chuẩn')\n",
    "    else:\n",
    "        print(f'sample1 không tuân theo phân phối chuẩn')\n",
    "    if test2 > 0.05:\n",
    "        print(f'sample2 tuân theo phân phối chuẩn')\n",
    "    else:\n",
    "        print(f'sample2 không tuân theo phân phối chuẩn')\n",
    "check(sample1,sample2)"
   ]
  },
  {
   "cell_type": "markdown",
   "metadata": {
    "id": "nDwnwdP3cyX_"
   },
   "source": [
    "Hãy tham khảo các hướng dẫn sau để kiểm định tính chất thứ 3 bằng kiểm định Bartlett hoặc kiểm định Levene\n",
    "\n",
    "(1) [Hướng dẫn tổng quát](https://www.marsja.se/levenes-bartletts-test-of-equality-homogeneity-of-variance-in-python/)\n",
    "\n",
    "(2) [Hướng dẫn ở stackoverflow](https://stackoverflow.com/questions/36141254/how-to-test-for-homoscedasticity-having-the-same-population-variance-in-python)\n",
    "\n",
    "(3) Sử dụng bài giảng về kiểm định Bartlett và Levene ở buổi trước"
   ]
  },
  {
   "cell_type": "code",
   "execution_count": null,
   "metadata": {
    "id": "HBhwi1kYcyX_"
   },
   "outputs": [],
   "source": [
    "#Code kiểm định tính đồng nhất về phương sai của các nhóm"
   ]
  },
  {
   "cell_type": "code",
   "execution_count": 23,
   "metadata": {
    "id": "_leCddMwcyYA"
   },
   "outputs": [
    {
     "name": "stdout",
     "output_type": "stream",
     "text": [
      "Phương sai không bằng nhau\n"
     ]
    }
   ],
   "source": [
    "check_var = stats.levene(sample1,sample2)[1]\n",
    "if check_var > 0.05:\n",
    "    print('Phương sai bằng nhau')\n",
    "else:\n",
    "    print('Phương sai không bằng nhau')"
   ]
  },
  {
   "cell_type": "code",
   "execution_count": null,
   "metadata": {},
   "outputs": [],
   "source": [
    "|"
   ]
  }
 ],
 "metadata": {
  "colab": {
   "name": "huong-dan-gia-dinh-ANOVA.ipynb",
   "provenance": []
  },
  "kernelspec": {
   "display_name": "Python 3",
   "language": "python",
   "name": "python3"
  },
  "language_info": {
   "codemirror_mode": {
    "name": "ipython",
    "version": 3
   },
   "file_extension": ".py",
   "mimetype": "text/x-python",
   "name": "python",
   "nbconvert_exporter": "python",
   "pygments_lexer": "ipython3",
   "version": "3.8.3"
  }
 },
 "nbformat": 4,
 "nbformat_minor": 1
}
