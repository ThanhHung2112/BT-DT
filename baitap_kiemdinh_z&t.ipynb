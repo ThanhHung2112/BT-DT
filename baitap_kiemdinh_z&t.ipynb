{
 "cells": [
  {
   "cell_type": "markdown",
   "metadata": {
    "id": "-BvNS6XnN23o"
   },
   "source": [
    "##### XÂY DỰNG CHƯƠNG TRÌNH KIỂM ĐỊNH Z (HOẶC T) CHO CÁC BÀI TẬP SAU\n",
    "\n",
    "Gợi ý:\n",
    "\n",
    "- Số liệu được sinh ngẫu nhiên theo phân phối chuẩn\n",
    "- Sử dụng gói phần mềm statsmodels để tiến hành kiểm định\n",
    "- Đối với các bài tập kiểm định giả thuyết thì sinh viên cần phát biểu các giả thuyết (bằng tiếng Việt) $H_{0}$ và $H_{a}$ trước khi lập trình kiểm định"
   ]
  },
  {
   "cell_type": "code",
   "execution_count": 13,
   "metadata": {},
   "outputs": [],
   "source": [
    "from statsmodels.stats.weightstats import ztest\n",
    "import numpy as np\n",
    "import random\n",
    "from scipy import stats as st\n",
    "from statsmodels.stats.weightstats import ttest_ind"
   ]
  },
  {
   "cell_type": "markdown",
   "metadata": {
    "id": "jE9W7eU2N23x"
   },
   "source": [
    "Bài 1: You’re a Q/C inspector for Gallo. The sample standard deviation for 2-liter bottles is .05 liters.  A random sample of 100 bottles showed sasmple mean = 1.99 liters.  What is the 90%  confidence interval estimate of the true mean amount in 2-liter bottles? "
   ]
  },
  {
   "cell_type": "code",
   "execution_count": 6,
   "metadata": {},
   "outputs": [
    {
     "name": "stdout",
     "output_type": "stream",
     "text": [
      "Sample mean = 1.99\n",
      "Sigma =0.5\n",
      "Mẫu =100\n",
      "khoảng tin cậy  = 0.9\n",
      "Lượng nước trung bình chai trong khoảng: (1.1675731865242636, 2.812426813475736)\n",
      "null_mean = 2\n",
      "z =  0.3254110006089204 p =  0.3724350154568069\n",
      "Chưa có bằng chứng để bác bỏ giả thuyết H0\n",
      "None\n"
     ]
    }
   ],
   "source": [
    "def bai_1():\n",
    "    sample_mean = float(input('Sample mean = ')) #  trung bình mẫu\n",
    "    sigma = float(input('Sigma =')) # độ lệch chuẩn\n",
    "    n = int(input('Mẫu =')) # mẫu \n",
    "    khoang_tin_cay = float(input('khoảng tin cậy  = ')) \n",
    "   \n",
    "    print('Lượng nước trung bình chai trong khoảng:', st.norm.interval(khoang_tin_cay , loc=sample_mean, scale=sigma))\n",
    "    # z test\n",
    "    null_mean = float(input('null_mean = ')) # 2 l\n",
    "    #sinh mẫu ngẫu nhiên\n",
    "    samples = np.random.normal(sample_mean,sigma,n)\n",
    "    ztest_Score, p_value= ztest(samples, value = null_mean, alternative='larger')\n",
    "    print('z = ', ztest_Score,\n",
    "           'p = ', p_value)\n",
    "    if(p_value <  (1-khoang_tin_cay)/2):\n",
    "      print(\"Có bằng chứng để bác bỏ giả thuyết H0\")\n",
    "    else:\n",
    "      print(\"Chưa có bằng chứng để bác bỏ giả thuyết H0\")\n",
    "    \n",
    "bai_1()"
   ]
  },
  {
   "cell_type": "markdown",
   "metadata": {
    "id": "RiKXc85oN23z"
   },
   "source": [
    "Bài 2: You’re a time study analyst in manufacturing.  You’ve recorded the following task times (min.): 3.6, 4.2, 4.0, 3.5, 3.8, 3.1. What is the 90% confidence interval estimate of the population mean task time? "
   ]
  },
  {
   "cell_type": "code",
   "execution_count": 9,
   "metadata": {
    "id": "sweiRhPHN23z"
   },
   "outputs": [
    {
     "name": "stdout",
     "output_type": "stream",
     "text": [
      "nhập mẫu n =3\n",
      "nhập giá trị :12\n",
      "nhập giá trị :3\n",
      "nhập giá trị :2\n",
      "[12.0, 3.0, 2.0]\n"
     ]
    }
   ],
   "source": [
    "def nhap_mau2():\n",
    "    list1 = []\n",
    "    n = int(input('nhập mẫu n ='))\n",
    "    for i in range(n):\n",
    "        x = float(input('nhập giá trị :'))\n",
    "        list1.append(x)\n",
    "    return list1\n",
    "list1 = nhap_mau2()\n",
    "print(list1)\n"
   ]
  },
  {
   "cell_type": "code",
   "execution_count": 11,
   "metadata": {},
   "outputs": [
    {
     "name": "stdout",
     "output_type": "stream",
     "text": [
      "nhap khoảng tin cậy :0.9\n",
      "thời gian trung bình thực hiện nhiệm vụ: (-1.7300962037108993, 13.06342953704423)\n",
      "t =  0.8386278693775346 , p =  0.4899386295493293\n",
      "Chưa có bằng chứng để bác bỏ giả thuyết H0\n"
     ]
    }
   ],
   "source": [
    "class Bai_2():\n",
    "    def __init__(self,list1):\n",
    "        self.l1 = list1\n",
    "    def gia_tri_tb(self):\n",
    "        sum1 = 0\n",
    "        for i in self.l1:\n",
    "            sum1+= i\n",
    "        return sum1/len(self.l1)\n",
    "    def kq(self):\n",
    "        khoang_tin_cay = float(input('nhap khoảng tin cậy :'))\n",
    "        sigma = np.std(self.l1)  \n",
    "        kq = st.norm.interval(khoang_tin_cay, loc=self.gia_tri_tb(), scale=sigma)\n",
    "\n",
    "        print('thời gian trung bình thực hiện nhiệm vụ:', kq)\n",
    "        ttest_Score, p_value = st.ttest_1samp(self.l1, 3.0)\n",
    "        print('t = ',ttest_Score,', p = ',p_value)\n",
    "        if(p_value <  (1-khoang_tin_cay)/2):\n",
    "            print(\"Có bằng chứng để bác bỏ giả thuyết H0\")\n",
    "        else:\n",
    "            print(\"Chưa có bằng chứng để bác bỏ giả thuyết H0\")\n",
    "       \n",
    "ADD = Bai_2(list1)\n",
    "ADD.gia_tri_tb()\n",
    "ADD.kq()\n"
   ]
  },
  {
   "cell_type": "markdown",
   "metadata": {
    "id": "_5obiJVCN230"
   },
   "source": [
    " Bài 3: Does an average box of cereal contain 368 grams of cereal?  A random sample of 25 boxes had $\\overline{\\rm x}$ = 372.5.  The company has specified $\\sigma$ to be 25 grams.  Test at the .05 level of significance."
   ]
  },
  {
   "cell_type": "code",
   "execution_count": 31,
   "metadata": {
    "id": "83wgwJWBN230"
   },
   "outputs": [
    {
     "name": "stdout",
     "output_type": "stream",
     "text": [
      "Mẫu n =25\n",
      "Sample mean = 372.5\n",
      "Sigma =25\n",
      "Null_mean = 368\n",
      "alpha =0.05\n",
      "t : 0.5018706419719895 p : 0.620331715513063\n",
      "Chưa có bằng chứng để bác bỏ giả thuyết H0\n",
      "None\n"
     ]
    }
   ],
   "source": [
    "def bai_3():\n",
    "    n = int(input('Mẫu n ='))\n",
    "    sample_mean = float(input('Sample mean = '))\n",
    "    sigma  = float(input('Sigma ='))\n",
    "    null_mean = float(input('Null_mean = '))\n",
    "    alpha = float(input('alpha ='))\n",
    "    \n",
    "    \n",
    "    # t test\n",
    "    ttest_Score, p_value = st.ttest_1samp(np.random.normal(sample_mean,sigma,n), null_mean)\n",
    "    print(\"t =\", ttest_Score,\"p =\",p_value)\n",
    "    if(p_value <  alpha/2):\n",
    "        print(\"Có bằng chứng để bác bỏ giả thuyết H0\")\n",
    "    else:\n",
    "        print(\"Chưa có bằng chứng để bác bỏ giả thuyết H0\")\n",
    "bai_3()"
   ]
  },
  {
   "cell_type": "markdown",
   "metadata": {
    "id": "l8TIswY2N231"
   },
   "source": [
    "Bài 4: You’re a Q/C inspector.  You want to find out if a new machine is making electrical cords to customer specification: average breaking strength of 70 lb. with $\\sigma$ = 3.5 lb.  You take a sample of 36 cords & compute a sample mean of 69.7 lb.  At the .05 level of significance, is there evidence that the machine is not meeting the average breaking strength?"
   ]
  },
  {
   "cell_type": "code",
   "execution_count": 7,
   "metadata": {
    "id": "AIzF9Z3ZN231"
   },
   "outputs": [
    {
     "name": "stdout",
     "output_type": "stream",
     "text": [
      "Mẫu n =36\n",
      "Ý nghĩa mẫu = 69.7\n",
      "Sigma =3.5\n",
      "Null_mean =70\n",
      "alpha =0.0\n",
      "z =  -0.4041850401561766 ; p =  0.6569616731440505\n",
      "Chưa có bằng chứng để bác bỏ giả thuyết H0\n"
     ]
    }
   ],
   "source": [
    "def bai_4():\n",
    "    n = int(input('Mẫu n ='))\n",
    "    sample_mean = float(input('Sample mean = '))\n",
    "    sigma  = float(input('Sigma ='))\n",
    "    null_mean = float(input('Null_mean = '))\n",
    "    alpha = float(input('alpha ='))\n",
    "    \n",
    "    # z test\n",
    "    ztest_Score, p_value= ztest(np.random.normal(sample_mean,sigma,n), value = null_mean, alternative='larger')\n",
    "    print('z = ', ztest_Score, '; p = ', p_value)\n",
    "    if (p_value <  alpha):\n",
    "        print(\"Có bằng chứng để bác bỏ giả thuyết H0\")\n",
    "    else:\n",
    "        print(\"Chưa có bằng chứng để bác bỏ giả thuyết H0\")\n",
    "bai_4()"
   ]
  },
  {
   "cell_type": "markdown",
   "metadata": {
    "id": "zYe3Zfm1N231"
   },
   "source": [
    "Bài 5: Does an average box of cereal contain more than 368 grams of cereal?  A random sample of 25 boxes showed $\\overline{\\rm x}$ =  372.5.  The company has specified $\\sigma$ to be 25 grams.  Test at the .05 level of significance."
   ]
  },
  {
   "cell_type": "code",
   "execution_count": 16,
   "metadata": {
    "id": "aFVL9nlqN232"
   },
   "outputs": [
    {
     "name": "stdout",
     "output_type": "stream",
     "text": [
      "Mẫu n =25\n",
      "Ý nghĩa mẫu = 372.5\n",
      "Sigma =25\n",
      "Null_mean =368\n",
      "alpha =0.05\n",
      "t = 1.7366599198266515 p = 0.0952680993394877\n",
      "Chưa có bằng chứng để bác bỏ giả thuyết H0\n"
     ]
    }
   ],
   "source": [
    "def bai_5():\n",
    "    n = int(input('Mẫu n ='))\n",
    "    sample_mean = float(input('Sample mean = '))\n",
    "    sigma  = float(input('Sigma ='))\n",
    "    null_mean = float(input('Null_mean = '))\n",
    "    alpha = float(input('alpha ='))\n",
    "    \n",
    "    # t test\n",
    "    ttest_Score, p_value = st.ttest_1samp(np.random.normal(sample_mean,sigma,n), null_mean)\n",
    "    print(\"t =\", ttest_Score,\"p =\",p_value)\n",
    "    if(p_value <  alpha/2):\n",
    "        print(\"Có bằng chứng để bác bỏ giả thuyết H0\")\n",
    "    else:\n",
    "        print(\"Chưa có bằng chứng để bác bỏ giả thuyết H0\")\n",
    "bai_5()"
   ]
  },
  {
   "cell_type": "markdown",
   "metadata": {
    "id": "rtSUFRhSN232"
   },
   "source": [
    "Bài 6: You’re an analyst for Ford.  You want to find out if the average miles per gallon of Escorts is at least 32 mpg. Similar models have a standard deviation of 3.8 mpg. You take a sample of 60 Escorts & compute a sample mean of 30.7 mpg. At the .01 level of significance, is there evidence that the miles per gallon is less than 32?"
   ]
  },
  {
   "cell_type": "code",
   "execution_count": 17,
   "metadata": {
    "id": "IEG5SbMQN232"
   },
   "outputs": [
    {
     "name": "stdout",
     "output_type": "stream",
     "text": [
      "Mẫu n =60\n",
      "Ý nghĩa mẫu = 30.7\n",
      "Sigma =3.8\n",
      "Null_mean =32\n",
      "alpha =0.01\n",
      "z =  -1.5934659832424416 ; p =  0.944472153201026\n",
      "Chưa có bằng chứng để bác bỏ giả thuyết H0\n"
     ]
    }
   ],
   "source": [
    "def bai_6():\n",
    "    n = int(input('Mẫu n ='))\n",
    "    sample_mean = float(input('Sample mean = '))\n",
    "    sigma  = float(input('Sigma ='))\n",
    "    null_mean = float(input('Null_mean = '))\n",
    "    alpha = float(input('alpha ='))\n",
    "    \n",
    "    # z test\n",
    "    ztest_Score, p_value= ztest(np.random.normal(sample_mean,sigma,n), value = null_mean, alternative='larger')\n",
    "    print('z = ', ztest_Score, '; p = ', p_value)\n",
    "    if (p_value <  alpha):\n",
    "        print(\"Có bằng chứng để bác bỏ giả thuyết H0\")\n",
    "    else:\n",
    "        print(\"Chưa có bằng chứng để bác bỏ giả thuyết H0\")\n",
    "bai_6()"
   ]
  },
  {
   "cell_type": "markdown",
   "metadata": {
    "id": "3R3a-zR7N233"
   },
   "source": [
    "Bài 7: Does an average box of cereal contain 368 grams of cereal?  A random sample of 25 boxes showed $\\overline{\\rm x}$ = 372.5.  The company has specified $\\sigma$ to be 15 grams.  Find the p-Value."
   ]
  },
  {
   "cell_type": "code",
   "execution_count": 18,
   "metadata": {
    "id": "v8vefzw8N233"
   },
   "outputs": [
    {
     "name": "stdout",
     "output_type": "stream",
     "text": [
      "Mẫu n =25\n",
      "Ý nghĩa mẫu = 372.5\n",
      "Sigma =15\n",
      "Null_mean =368\n",
      "t = 1.668519896196991 p = 0.10820843435314727\n"
     ]
    }
   ],
   "source": [
    "def bai_7():\n",
    "    n = int(input('Mẫu n ='))\n",
    "    sample_mean = float(input('Sample mean = '))\n",
    "    sigma  = float(input('Sigma ='))\n",
    "    null_mean = float(input('Null_mean = '))\n",
    "    \n",
    "    # t test\n",
    "    ttest_Score, p_value = st.ttest_1samp(np.random.normal(sample_mean,sigma,n), null_mean)\n",
    "    print(\"p =\",p_value)\n",
    "  \n",
    "bai_7()"
   ]
  },
  {
   "cell_type": "markdown",
   "metadata": {
    "id": "Kzx6Noh3N233"
   },
   "source": [
    "Bài 8: Does an average box of cereal contain more than 368 grams of cereal?  A random sample of 25 boxes showed $\\overline{\\rm x}$ = 372.5.  The company has specified $\\sigma$ to be 15 grams.  Find the p-Value."
   ]
  },
  {
   "cell_type": "code",
   "execution_count": 19,
   "metadata": {
    "id": "oKFunt1nN234"
   },
   "outputs": [
    {
     "name": "stdout",
     "output_type": "stream",
     "text": [
      "Mẫu n =25\n",
      "Ý nghĩa mẫu = 372.5\n",
      "Sigma =15\n",
      "Null_mean =368\n",
      "p = 0.0038790139463246794\n"
     ]
    }
   ],
   "source": [
    "def bai_8():\n",
    "    n = int(input('Mẫu n ='))\n",
    "    sample_mean = float(input('Sample mean = '))\n",
    "    sigma  = float(input('Sigma ='))\n",
    "    null_mean = float(input('Null_mean = '))\n",
    "    \n",
    "    # t test\n",
    "    ttest_Score, p_value = st.ttest_1samp(np.random.normal(sample_mean,sigma,n), null_mean)\n",
    "    print(\"p =\",p_value)\n",
    "  \n",
    "bai_8()"
   ]
  },
  {
   "cell_type": "markdown",
   "metadata": {
    "id": "MMNF1kfSN234"
   },
   "source": [
    "Bài 9: You’re an analyst for Ford.  You want to find out if the average miles per gallon of Escorts is less than 32 mpg.   Similar models have a standard deviation of 3.8 mpg.  You take a sample of 60 Escorts & compute a sample mean of 30.7 mpg.  What is the value of the observed level of significance (p-Value)?"
   ]
  },
  {
   "cell_type": "code",
   "execution_count": 20,
   "metadata": {
    "id": "7G4wDDYKN234"
   },
   "outputs": [
    {
     "name": "stdout",
     "output_type": "stream",
     "text": [
      "Mẫu n =60\n",
      "Ý nghĩa mẫu = 30.7\n",
      "Sigma =3.8\n",
      "Null_mean =32\n",
      "p = 0.024204157607651853\n"
     ]
    }
   ],
   "source": [
    "bai_9 = bai_8()\n",
    "bai_9"
   ]
  },
  {
   "cell_type": "markdown",
   "metadata": {
    "id": "Onm2PGf3N235"
   },
   "source": [
    "Bài 10: Does an average box of cereal contain 368 grams of cereal?  A random sample of 36 boxes had a mean of 372.5 and a standard deviation of 12 grams. Test at the .05 level of significance."
   ]
  },
  {
   "cell_type": "code",
   "execution_count": null,
   "metadata": {
    "id": "1p9BbRPmN235"
   },
   "outputs": [],
   "source": [
    "bai_10 = bai_6()\n",
    "bai_10"
   ]
  },
  {
   "cell_type": "markdown",
   "metadata": {
    "id": "LxBjR-j5N235"
   },
   "source": [
    "Bài 11: You work for the FTC.  A manufacturer of detergent claims that the mean weight of detergent is 3.25 lb.  You take a random sample of 64 containers.  You calculate the sample average to be 3.238 lb. with a standard deviation of .117 lb.  At the .01 level of significance, is the manufacturer correct?"
   ]
  },
  {
   "cell_type": "code",
   "execution_count": null,
   "metadata": {
    "id": "fS8sjxsLN236"
   },
   "outputs": [],
   "source": [
    "bai_11 = bai_6()"
   ]
  },
  {
   "cell_type": "markdown",
   "metadata": {
    "id": "70jFF46FN236"
   },
   "source": [
    "Bài 12: Is the average capacity of batteries less than 140 ampere-hours?  A random sample of 20 batteries had a mean of 138.47 and a standard deviation of 2.66.  Assume a normal distribution. Test at the .05 level of significance."
   ]
  },
  {
   "cell_type": "code",
   "execution_count": null,
   "metadata": {
    "id": "Mri6TVgzN236"
   },
   "outputs": [],
   "source": [
    "bai_12 = bai_5()"
   ]
  },
  {
   "cell_type": "markdown",
   "metadata": {
    "id": "uQ09YCXGN236"
   },
   "source": [
    "Bài 13: You’re a marketing analyst for Wal-Mart.  Wal-Mart had teddy bears on sale last week.  The weekly sales of bears sold in 10 stores was: 8  11  0   4   7   8   10   5   8   3. At the .05 level of significance, is there evidence that the average bear sales per store is more than 5?"
   ]
  },
  {
   "cell_type": "code",
   "execution_count": null,
   "metadata": {
    "id": "CEI-yGbSN237"
   },
   "outputs": [],
   "source": [
    "bai_13 = bai_5()"
   ]
  },
  {
   "cell_type": "code",
   "execution_count": null,
   "metadata": {},
   "outputs": [],
   "source": []
  }
 ],
 "metadata": {
  "colab": {
   "name": "bai-tap-kiem-dinh-z-t.ipynb",
   "provenance": []
  },
  "kernelspec": {
   "display_name": "Python 3",
   "language": "python",
   "name": "python3"
  },
  "language_info": {
   "codemirror_mode": {
    "name": "ipython",
    "version": 3
   },
   "file_extension": ".py",
   "mimetype": "text/x-python",
   "name": "python",
   "nbconvert_exporter": "python",
   "pygments_lexer": "ipython3",
   "version": "3.8.3"
  }
 },
 "nbformat": 4,
 "nbformat_minor": 1
}
