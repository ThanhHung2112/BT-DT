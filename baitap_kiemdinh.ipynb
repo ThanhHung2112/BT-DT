{
 "cells": [
  {
   "cell_type": "code",
   "execution_count": 5,
   "metadata": {},
   "outputs": [],
   "source": [
    "from scipy import stats\n",
    "import numpy as np"
   ]
  },
  {
   "cell_type": "code",
   "execution_count": 6,
   "metadata": {},
   "outputs": [],
   "source": [
    "\n",
    "# tinh kiem dinh 2 duoi_1 mau\n",
    "# nhập vào list mẫu theo thứ tự: trung bình mẫu, độ lệch chuẩn, kích thước mẫu\n",
    "# nhập vào list phát biểu theo: giả thuyết H0, mức ý nghĩa alpha\n",
    "# so_huong nhận 1 trong 3 giá trị: 'two-sided', 'less', 'greater'\n",
    "def kiem_dinh_t(mau, phat_bieu, so_huong):\n",
    "    sample = np.random.normal(mau[0],mau[1],mau[2])\n",
    "    null_mean = phat_bieu[0]\n",
    "    alpha = phat_bieu[1]\n",
    "    ts, pvalue = stats.ttest_1samp(sample, null_mean, alternative=so_huong)\n",
    "    if (pvalue < alpha):\n",
    "        print(\"Có bằng chứng để bác bỏ giả thuyết H0\")\n",
    "    else:\n",
    "        print(\"Chưa có bằng chứng để bác bỏ giả thuyết H0\")"
   ]
  },
  {
   "cell_type": "code",
   "execution_count": null,
   "metadata": {},
   "outputs": [],
   "source": [
    "# tinh kiem dinh 2 duoi_1 mau\n",
    "# nhập vào list mẫu theo thứ tự: trung bình mẫu, độ lệch chuẩn, kích thước mẫu\n",
    "# nhập alpha\n",
    "# so_huong nhận 1 trong 3 giá trị: 'two-sided', 'less', 'greater'\n",
    "def kiem_dinh_t_2_mau(mau1, mau2, alpha, so_huong):\n",
    "    sample1 = np.random.normal(mau1[0],mau1[1],mau1[2])\n",
    "    sample2 = np.random.normal(mau2[0],mau2[1],mau2[2])\n",
    "    ts, pvalue = stats.ttest_ind(sample1,sample2, alternative=so_huong)\n",
    "    if (pvalue < alpha):\n",
    "        print(\"Có bằng chứng để bác bỏ giả thuyết H0\")\n",
    "    else:\n",
    "        print(\"Chưa có bằng chứng để bác bỏ giả thuyết H0\")\n",
    "\n",
    "\n",
    "kiem_dinh_t_2_mau([3.62, 0.1, 15],[3.73, 0.1, 17], 0.01,'two-sided')\n",
    "kiem_dinh_t([3.62, 0.1, 15],[3.5,0.01],'two-sided')"
   ]
  }
 ],
 "metadata": {
  "kernelspec": {
   "display_name": "Python 3",
   "language": "python",
   "name": "python3"
  },
  "language_info": {
   "codemirror_mode": {
    "name": "ipython",
    "version": 3
   },
   "file_extension": ".py",
   "mimetype": "text/x-python",
   "name": "python",
   "nbconvert_exporter": "python",
   "pygments_lexer": "ipython3",
   "version": "3.8.3"
  }
 },
 "nbformat": 4,
 "nbformat_minor": 4
}
