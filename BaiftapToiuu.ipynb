{
  "nbformat": 4,
  "nbformat_minor": 0,
  "metadata": {
    "colab": {
      "provenance": [],
      "authorship_tag": "ABX9TyMRHBDEegatjyI8Acanp5VR",
      "include_colab_link": true
    },
    "kernelspec": {
      "name": "python3",
      "display_name": "Python 3"
    },
    "language_info": {
      "name": "python"
    }
  },
  "cells": [
    {
      "cell_type": "markdown",
      "metadata": {
        "id": "view-in-github",
        "colab_type": "text"
      },
      "source": [
        "<a href=\"https://colab.research.google.com/github/ThanhHung2112/BT-DT/blob/master/BaiftapToiuu.ipynb\" target=\"_parent\"><img src=\"https://colab.research.google.com/assets/colab-badge.svg\" alt=\"Open In Colab\"/></a>"
      ]
    },
    {
      "cell_type": "code",
      "execution_count": 1,
      "metadata": {
        "id": "SMsrreHfzyTC"
      },
      "outputs": [],
      "source": [
        "import pprint\n",
        "from cvxopt import matrix, solvers\n"
      ]
    },
    {
      "cell_type": "markdown",
      "source": [
        "Cau 1:\n"
      ],
      "metadata": {
        "id": "eoO8cSJn5hxn"
      }
    },
    {
      "cell_type": "code",
      "source": [
        "c = matrix([3., 5.])"
      ],
      "metadata": {
        "id": "f-yKRpKX0EXu"
      },
      "execution_count": 28,
      "outputs": []
    },
    {
      "cell_type": "code",
      "source": [
        "G = matrix([[2., 0, 3., -1., 0],\n",
        "            [1., 4. ,0, 0, -1.]])"
      ],
      "metadata": {
        "id": "xLYx2jxM2A7h"
      },
      "execution_count": 19,
      "outputs": []
    },
    {
      "cell_type": "code",
      "source": [
        "h = matrix([8., 4., 3., 0., 0.])"
      ],
      "metadata": {
        "id": "v3HJkM6L2dU0"
      },
      "execution_count": 20,
      "outputs": []
    },
    {
      "cell_type": "code",
      "source": [
        "solvers.options['show_progress'] = True\n",
        "sol = solvers.lp(c, G, h)\n",
        "\n",
        "print('Solution\"')\n",
        "print(sol['x'])"
      ],
      "metadata": {
        "colab": {
          "base_uri": "https://localhost:8080/"
        },
        "id": "sZoaMq402sRS",
        "outputId": "b20a86a2-fef1-4ca9-9375-2fd623005c03"
      },
      "execution_count": 29,
      "outputs": [
        {
          "output_type": "stream",
          "name": "stdout",
          "text": [
            "     pcost       dcost       gap    pres   dres   k/t\n",
            " 0:  1.0629e+01 -1.9855e+01  3e+01  7e-01  2e+00  1e+00\n",
            " 1: -1.6012e+00 -7.8298e+00  1e+01  2e-01  5e-01  1e+00\n",
            " 2: -1.2604e-01 -6.5256e-01  1e+00  1e-02  4e-02  1e-01\n",
            " 3: -1.3843e-03 -7.0602e-03  1e-02  2e-04  4e-04  1e-03\n",
            " 4: -1.3842e-05 -7.0596e-05  1e-04  2e-06  4e-06  1e-05\n",
            " 5: -1.3842e-07 -7.0596e-07  1e-06  2e-08  4e-08  1e-07\n",
            " 6: -1.3842e-09 -7.0596e-09  1e-08  2e-10  4e-10  1e-09\n",
            "Optimal solution found.\n",
            "Solution\"\n",
            "[ 2.79e-10]\n",
            "[-4.44e-10]\n",
            "\n"
          ]
        }
      ]
    },
    {
      "cell_type": "markdown",
      "source": [
        "Cau 2:"
      ],
      "metadata": {
        "id": "zh_BbBta5j1w"
      }
    },
    {
      "cell_type": "code",
      "source": [
        "c = matrix([2., -4., -1., 6.])\n",
        "G = matrix([[0.1, 0.3, 0.02, 0., -1., 0., 0.,0.],\n",
        "            [0.2, 0.4, 0.001, 0.,  0., -1., 0.,0.],\n",
        "            [0.3, 0.2, 0.03, 0.,  0., 0., -1.,0.],\n",
        "            [0.,   0.,    0., 0.,  0., 0., 0, -1.]])\n",
        "            \n",
        "h = matrix([90., 130., 10., 0., 0.,0.,0.,0.])"
      ],
      "metadata": {
        "id": "xWom4tZ22s3t"
      },
      "execution_count": 46,
      "outputs": []
    },
    {
      "cell_type": "code",
      "source": [
        "solvers.options['show_progress'] = True\n",
        "sol = solvers.lp(c, G, h)\n",
        "\n",
        "print('Solution\"')\n",
        "print(sol['x'])"
      ],
      "metadata": {
        "colab": {
          "base_uri": "https://localhost:8080/"
        },
        "id": "KC8AJJxP6Ao9",
        "outputId": "022ff78d-acf0-4b4e-bf22-ab4fae780622"
      },
      "execution_count": 47,
      "outputs": [
        {
          "output_type": "stream",
          "name": "stdout",
          "text": [
            "     pcost       dcost       gap    pres   dres   k/t\n",
            " 0: -1.6911e+02 -1.2110e+03  1e+03  2e-02  8e-01  1e+00\n",
            " 1: -1.1315e+03 -1.8020e+03  1e+03  1e-02  5e-01  4e+01\n",
            " 2: -1.2639e+03 -1.3030e+03  7e+01  7e-04  3e-02  2e+00\n",
            " 3: -1.2996e+03 -1.3000e+03  8e-01  9e-06  4e-04  4e-02\n",
            " 4: -1.3000e+03 -1.3000e+03  8e-03  9e-08  4e-06  4e-04\n",
            " 5: -1.3000e+03 -1.3000e+03  8e-05  9e-10  4e-08  4e-06\n",
            "Optimal solution found.\n",
            "Solution\"\n",
            "[ 2.57e-06]\n",
            "[ 3.25e+02]\n",
            "[ 2.21e-05]\n",
            "[ 9.09e-07]\n",
            "\n"
          ]
        }
      ]
    },
    {
      "cell_type": "code",
      "source": [],
      "metadata": {
        "id": "2mRi4ZYO68_8"
      },
      "execution_count": null,
      "outputs": []
    }
  ]
}